{
 "cells": [
  {
   "cell_type": "markdown",
   "metadata": {},
   "source": [
    "# RMJ Parsing | Level of difficulty : 1 out of 10"
   ]
  },
  {
   "cell_type": "markdown",
   "metadata": {},
   "source": [
    "### Import modules"
   ]
  },
  {
   "cell_type": "code",
   "execution_count": null,
   "metadata": {},
   "outputs": [],
   "source": [
    "from bs4 import BeautifulSoup\n",
    "from random import choice\n",
    "from fake_useragent import UserAgent\n",
    "\n",
    "from selenium import webdriver\n",
    "import csv\n",
    "import time\n",
    "import os\n",
    "import wget\n",
    "import requests\n",
    "\n",
    "print(\"Modules loaded successfully\")"
   ]
  },
  {
   "cell_type": "markdown",
   "metadata": {},
   "source": [
    "### Variables"
   ]
  },
  {
   "cell_type": "code",
   "execution_count": null,
   "metadata": {},
   "outputs": [],
   "source": [
    "login_url    = \"https://www.rmj.ru/personal/\"\n",
    "archive_url  = \"https://www.rmj.ru/archive/?PAGEN_1={}\" # in curly brackets page number\n",
    "login        = \"almasgaara@mail.ru\"\n",
    "password     = \"X2n5mP4Ngq\"\n",
    "link_array   = []\n",
    "start_page   = 1\n",
    "end_page     = 17\n",
    "titles       = []\n",
    "categories   = []\n",
    "pdfs         = []\n",
    "result       = {}\n",
    "\n",
    "print(\"Variables loaded successfully\")"
   ]
  },
  {
   "cell_type": "markdown",
   "metadata": {},
   "source": [
    "### Functions"
   ]
  },
  {
   "cell_type": "code",
   "execution_count": null,
   "metadata": {},
   "outputs": [],
   "source": [
    "def get_data(url):\n",
    "    driver.get(url)\n",
    "    title    = get_element('/html/body/div[1]/div[1]/div/div[4]/div[2]/div[3]/div[1]/div/div[2]/div[1]', 0) \n",
    "    category = get_element('/html/body/div[1]/div[1]/div/div[4]/div[2]/h1', 0)\n",
    "    pdf      = get_element('/html/body/div[1]/div[1]/div/div[4]/div[2]/div[3]/div[1]/div/div[2]/div[3]/a', 1)\n",
    "    return {\n",
    "        \"title\"    : title,\n",
    "        \"category\" : category,\n",
    "        \"pdf\"      : pdf\n",
    "    }\n",
    "\n",
    "def get_element(xpath, mode):\n",
    "    element = None\n",
    "    try: \n",
    "        if(mode == 0):\n",
    "            element = driver.find_element_by_xpath(xpath).text\n",
    "        elif(mode == 1):\n",
    "            element = driver.find_element_by_xpath(xpath).get_attribute(\"href\")\n",
    "    except : pass\n",
    "    return element\n",
    "\n",
    "def get_proxy():\n",
    "    proxies = []\n",
    "    proxyFile = open(\"proxies.content.txt\", \"r\")\n",
    "    soup = BeautifulSoup(proxyFile.read(), 'html.parser')\n",
    "    tr = soup.findAll('td', attrs={'class': 'tdl'})\n",
    "    for td in tr:\n",
    "        proxies.append(td.text)\n",
    "        proxyFile.close()\n",
    "    return {'http//': choice(proxies)}\n",
    "\n",
    "def get_user_agent():\n",
    "    return { 'User-Agent': UserAgent().chrome }\n",
    "\n",
    "def get_links(html):\n",
    "    links = []\n",
    "    try:\n",
    "        blocks = html.findAll('div', attrs={'class': 'block'})\n",
    "        for block in blocks:\n",
    "            images = block.findAll('div', attrs={'class': 'image'})\n",
    "            for img in images:\n",
    "                links.append(\"https://www.rmj.ru\" + img.find('a')[\"href\"])\n",
    "    except:\n",
    "        print(\"Error\")\n",
    "    return links"
   ]
  },
  {
   "cell_type": "markdown",
   "metadata": {},
   "source": [
    "### Get all links from archive"
   ]
  },
  {
   "cell_type": "code",
   "execution_count": null,
   "metadata": {},
   "outputs": [],
   "source": [
    "with open(\"links.txt\", \"w\") as file:\n",
    "    for page in range(start_page, end_page+1):\n",
    "        url = archive_url.format(page)\n",
    "        print(f\"parsing...{url} :\")\n",
    "        response = requests.get(url=url,\n",
    "            headers=get_user_agent(), proxies=get_proxy())\n",
    "        html = response.content\n",
    "        soup = BeautifulSoup(html, 'html.parser')\n",
    "        for link in get_links(soup):\n",
    "            file.write(link + \"\\n\")\n",
    "            print(\"Success!\")\n",
    "            file.close()"
   ]
  },
  {
   "cell_type": "markdown",
   "metadata": {},
   "source": [
    "### Bypass Login"
   ]
  },
  {
   "cell_type": "code",
   "execution_count": 57,
   "metadata": {},
   "outputs": [
    {
     "name": "stdout",
     "output_type": "stream",
     "text": [
      "Variables loaded successfully\n"
     ]
    }
   ],
   "source": [
    "try:\n",
    "    driver = webdriver.Chrome()\n",
    "    driver.get(login_url)\n",
    "\n",
    "    login_input    = driver.find_element_by_xpath('//*[@id=\"tab_section2\"]/div/div/form/div[2]/input')\n",
    "    password_input = driver.find_element_by_xpath('//*[@id=\"tab_section2\"]/div/div/form/div[3]/input')\n",
    "    button         = driver.find_element_by_xpath('//*[@id=\"auth-b\"]')\n",
    "\n",
    "    login_input.send_keys(login)\n",
    "    password_input.send_keys(password)\n",
    "\n",
    "    button.click()\n",
    "except:\n",
    "    print(\"Already logged in\")\n",
    "print(\"Ready for parsing\")"
   ]
  },
  {
   "cell_type": "markdown",
   "metadata": {},
   "source": [
    "### Get all PDF URLs"
   ]
  },
  {
   "cell_type": "code",
   "execution_count": null,
   "metadata": {},
   "outputs": [],
   "source": [
    "with open(\"links.txt\", \"r\") as file:\n",
    "    with open('data.csv', 'w', newline='', encoding='utf-8') as csvfile:\n",
    "        spamwriter = csv.DictWriter(csvfile, fieldnames=[\"Title\", \"Category\" ,\"PDF\"])\n",
    "        spamwriter.writeheader()\n",
    "        for url in file.readlines():\n",
    "            print(f\"parsing...{url}\")\n",
    "            try:\n",
    "                data = get_data(url)\n",
    "                spamwriter.writerow({\n",
    "                    \"Title\"    : data[\"title\"],\n",
    "                    \"Category\" : data[\"category\"],\n",
    "                    \"PDF\"      : data[\"pdf\"]\n",
    "                })\n",
    "                print(\"Success!\")\n",
    "                print(\"Title: {}\".format(data[\"title\"]))\n",
    "                print(\"Category: {}\".format(data[\"category\"]))\n",
    "                print(\"PDF: {}\".format(data[\"pdf\"]))\n",
    "            except Exception as e:\n",
    "                print(\"Failed!\")\n",
    "                print(f\"Exception: {e}\")"
   ]
  },
  {
   "cell_type": "markdown",
   "metadata": {},
   "source": [
    "### Sort files by categories"
   ]
  },
  {
   "cell_type": "code",
   "execution_count": 100,
   "metadata": {},
   "outputs": [],
   "source": [
    "with open('data.csv', newline='', encoding='utf-8') as csvfile:\n",
    "    reader = csv.DictReader(csvfile)\n",
    "    for row in reader:\n",
    "        if dict(row)[\"PDF\"] is not None:\n",
    "            titles.append(dict(row)[\"Title\"])\n",
    "            categories.append(dict(row)[\"Category\"])\n",
    "            pdfs.append(dict(row)[\"PDF\"])\n",
    "            \n",
    "n = len(titles)\n",
    "for i in range(n):\n",
    "    if(titles[i]!= ''):\n",
    "        try:\n",
    "            result[titles[i]][\"categories\"].append(categories[i])\n",
    "            result[titles[i]][\"pdfs\"].append(pdfs[i])\n",
    "        except:\n",
    "            result[titles[i]] = {\n",
    "                \"categories\": [],\n",
    "                \"pdfs\": []\n",
    "            }"
   ]
  },
  {
   "cell_type": "markdown",
   "metadata": {},
   "source": [
    "### Create PDF file with URL"
   ]
  },
  {
   "cell_type": "code",
   "execution_count": null,
   "metadata": {},
   "outputs": [],
   "source": [
    "for key in list(result.keys()):\n",
    "    path = \"pdf/{}\".format(key)\n",
    "    os.mkdir(path)\n",
    "    print(key)\n",
    "    for i in range(len(result[key][\"pdfs\"])):\n",
    "        try:\n",
    "            url = result[key][\"pdfs\"][i]\n",
    "            wget.download(url,  \n",
    "                path+'/{}.pdf'.format(result[key][\"categories\"][i]))\n",
    "            print(\"Success: {}\".format(result[key][\"categories\"][i]))\n",
    "        except Exception as e:\n",
    "            print(\"Failed: {}\".format(e))\n",
    "    print(\"--------------\")"
   ]
  }
 ],
 "metadata": {
  "kernelspec": {
   "display_name": "Python 3",
   "language": "python",
   "name": "python3"
  },
  "language_info": {
   "codemirror_mode": {
    "name": "ipython",
    "version": 3
   },
   "file_extension": ".py",
   "mimetype": "text/x-python",
   "name": "python",
   "nbconvert_exporter": "python",
   "pygments_lexer": "ipython3",
   "version": "3.7.4"
  }
 },
 "nbformat": 4,
 "nbformat_minor": 2
}
