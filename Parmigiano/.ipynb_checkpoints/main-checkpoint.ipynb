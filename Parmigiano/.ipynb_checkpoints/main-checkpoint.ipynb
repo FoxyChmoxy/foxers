{
 "cells": [
  {
   "cell_type": "markdown",
   "metadata": {},
   "source": [
    "# Parmigiano Parsing | Level of difficulty : 2 out of 10"
   ]
  },
  {
   "cell_type": "code",
   "execution_count": 50,
   "metadata": {},
   "outputs": [
    {
     "name": "stdout",
     "output_type": "stream",
     "text": [
      "Modules loaded successfully\n"
     ]
    }
   ],
   "source": [
    "from bs4 import BeautifulSoup\n",
    "from random import choice\n",
    "from fake_useragent import UserAgent\n",
    "\n",
    "from selenium import webdriver\n",
    "import csv\n",
    "import time\n",
    "import os\n",
    "import wget\n",
    "import requests\n",
    "\n",
    "print(\"Modules loaded successfully\")"
   ]
  },
  {
   "cell_type": "markdown",
   "metadata": {},
   "source": [
    "### Variables"
   ]
  },
  {
   "cell_type": "code",
   "execution_count": 51,
   "metadata": {},
   "outputs": [],
   "source": [
    "main_url = \"http://parmigiano-group.com/restaurants\""
   ]
  },
  {
   "cell_type": "markdown",
   "metadata": {},
   "source": [
    "### Functions"
   ]
  },
  {
   "cell_type": "code",
   "execution_count": 57,
   "metadata": {},
   "outputs": [],
   "source": [
    "def get_proxy():\n",
    "    proxies = []\n",
    "    proxyFile = open(\"../proxies.content.txt\", \"r\")\n",
    "    soup = BeautifulSoup(proxyFile.read(), 'html.parser')\n",
    "    tr = soup.findAll('td', attrs={'class': 'tdl'})\n",
    "    for td in tr:\n",
    "        proxies.append(td.text)\n",
    "        proxyFile.close()\n",
    "    return {'http//': choice(proxies)}\n",
    "\n",
    "def get_user_agent():\n",
    "    return { 'User-Agent': UserAgent().chrome }\n",
    "\n",
    "def get_links(html):\n",
    "    links = []\n",
    "    try:\n",
    "        links = html.findAll('a', attrs={'class':'restoran-block'})\n",
    "        links = [link[\"href\"] for link in links]\n",
    "    except:\n",
    "        print(\"Error\")\n",
    "    return links\n",
    "\n",
    "def get_data(url):\n",
    "    driver.get(url)\n",
    "    eng = driver.find_element_by_xpath('//*[@id=\"wrap\"]/header/div/div[1]/div/div/div[1]/div/a[2]')\n",
    "    eng.click()\n",
    "    \n",
    "    title = driver.find_element_by_xpath('//*[@id=\"wrap\"]/main/div[1]/div/h1').text\n",
    "    youtube = driver.find_element_by_xpath('//*[@id=\"wrap\"]/main/div[2]/div/div[2]/div/div[3]/div/ul/li[1]/a').get_attribute(\"href\")\n",
    "    facebook = driver.find_element_by_xpath('//*[@id=\"wrap\"]/main/div[2]/div/div[2]/div/div[3]/div/ul/li[2]/a').get_attribute(\"href\")\n",
    "    instagram = driver.find_element_by_xpath('//*[@id=\"wrap\"]/main/div[2]/div/div[2]/div/div[3]/div/ul/li[3]/a').get_attribute(\"href\")\n",
    "    avg_receipt = get_element('//*[@id=\"wrap\"]/main/div[3]/div/div/div[1]/ul/li[1]/div', mode=0)\n",
    "    kitchen = get_element('//*[@id=\"wrap\"]/main/div[3]/div/div/div[1]/ul/li[2]/div', mode=0)\n",
    "    seats = get_element('//*[@id=\"wrap\"]/main/div[3]/div/div/div[1]/ul/li[3]/div', mode=0)\n",
    "    vip = get_element('//*[@id=\"wrap\"]/main/div[3]/div/div/div[2]/ul/li[1]/div', mode=0)\n",
    "    work_hours = get_element('//*[@id=\"wrap\"]/main/div[3]/div/div/div[2]/ul/li[2]/div', mode=0)\n",
    "    menu_pdf = driver.find_element_by_xpath('//*[@id=\"myModal311\"]/div/div/div[2]/iframe', mode=2)\n",
    "    bar_pdf = driver.find_element_by_xpath('//*[@id=\"myModal314\"]/div/div/div[2]/iframe', mode=2)\n",
    "    tel, address = get_contacts(\"div.col-md-8 a\")\n",
    "    album = get_album('div.owl-item img')\n",
    "    \n",
    "#     print(title.text)\n",
    "#     print(youtube.get_attribute(\"href\"))\n",
    "#     print(facebook.get_attribute(\"href\"))\n",
    "#     print(instagram.get_attribute(\"href\"))\n",
    "#     print(avg_receipt.text)\n",
    "#     print(kitchen.text)\n",
    "#     print(vip.text)\n",
    "#     print(work_hours.text)\n",
    "#     print(menu_pdf.get_attribute(\"src\"))\n",
    "#     print(bar_pdf.get_attribute(\"src\"))\n",
    "\n",
    "    print(title)\n",
    "    print(youtube)\n",
    "    print(facebook)\n",
    "    print(instagram)\n",
    "    print(avg_receipt)\n",
    "    print(kitchen)\n",
    "    print(vip)\n",
    "    print(work_hours)\n",
    "    print(menu_pdf)\n",
    "    print(bar_pdf)\n",
    "    print(tel)\n",
    "    print(address)\n",
    "    \n",
    "#     phone        = driver.find_element_by_xpath('//*[@id=\"wrap\"]/main/div[2]/div/div[2]/div/div[1]/div[1]/span/a')\n",
    "#     address_list = get_address('//*[@id=\"wrap\"]/main/div[2]/div/div[2]/div/div[1]')\n",
    "    \n",
    "#     return {\n",
    "#         \"title\" : title,\n",
    "#         \"phone\" : phone,\n",
    "#         \"address_list\" : address_list,\n",
    "#         \"youtube\" : youtube,\n",
    "#         \"facebook\" : facebook,\n",
    "#         \"instagram\" : instagram,\n",
    "#         \"avg_check\" : avg_check,\n",
    "#         \"kitchen\" : kitchen,\n",
    "#         \"tables\" : tables,\n",
    "#         \"vip\" : vip,\n",
    "#         \"work_time\" : work_time,\n",
    "#     }\n",
    "\n",
    "def get_element(xpath, mode):\n",
    "    try:\n",
    "        if mode == 0:\n",
    "            return driver.find_element_by_xpath(xpath).text\n",
    "        elif mode == 1:\n",
    "            return driver.find_element_by_xpath(xpath).get_attribute(\"href\")\n",
    "        elif mode == 2:\n",
    "            return driver.find_element_by_xpath(xpath).get_attribute(\"src\")\n",
    "        return None\n",
    "    except:\n",
    "        return None\n",
    "        \n",
    "    \n",
    "def get_contacts(css_selector):\n",
    "    contacts = driver.find_elements_by_css_selector(css_selector)\n",
    "    tel = None\n",
    "    address = None\n",
    "    if len(contacts) > 0:\n",
    "        tel = contacts[0].text\n",
    "        if len(contacts) > 1:\n",
    "            address = []\n",
    "            contacts.pop(0)\n",
    "            for point in contacts:\n",
    "                address.append(point.text)\n",
    "    return tel, address"
   ]
  },
  {
   "cell_type": "markdown",
   "metadata": {},
   "source": [
    "### Get all links from main url"
   ]
  },
  {
   "cell_type": "code",
   "execution_count": 19,
   "metadata": {},
   "outputs": [],
   "source": [
    "with open(\"links.txt\", \"w\") as file:\n",
    "    response = requests.get(url=main_url, headers=get_user_agent(), proxies=get_proxy())\n",
    "    html = response.content\n",
    "    soup = BeautifulSoup(html, 'html.parser')\n",
    "    for link in get_links(soup):\n",
    "        file.write(\"http://parmigiano-group.com\" + link + \"\\n\")"
   ]
  },
  {
   "cell_type": "markdown",
   "metadata": {},
   "source": [
    "### Get data from links"
   ]
  },
  {
   "cell_type": "code",
   "execution_count": 52,
   "metadata": {},
   "outputs": [],
   "source": [
    "driver = webdriver.Chrome()\n",
    "# with open(\"links.txt\", \"r\") as file:\n",
    "#     for url in file.readlines():\n",
    "#         data = get_data(url)\n",
    "#         get_data(url)\n",
    "#         break\n",
    "# driver.close()"
   ]
  },
  {
   "cell_type": "code",
   "execution_count": 66,
   "metadata": {},
   "outputs": [],
   "source": [
    "driver.get('http://parmigiano-group.com/restaurants/georg_rest')"
   ]
  },
  {
   "cell_type": "code",
   "execution_count": 54,
   "metadata": {},
   "outputs": [],
   "source": [
    "a = driver.find_element_by_xpath('//*[@id=\"wrap\"]/header/div/div[1]/div/div/div[1]/div/a[2]')\n",
    "a.click()"
   ]
  },
  {
   "cell_type": "code",
   "execution_count": 56,
   "metadata": {},
   "outputs": [
    {
     "name": "stdout",
     "output_type": "stream",
     "text": [
      "MAMA'S\n",
      "https://www.youtube.com/channel/UC3gz8-O1Kn5gP2XBOfhgwMw\n",
      "https://www.facebook.com/parmigianogroup\n",
      "http://instagram.com/parmigiano_group\n",
      "Average receipt: 700-1500 ₸\n",
      "Kitchen European, Russian\n",
      "VIP-area: not avaliable\n",
      "Working hours: Monday-Friday 08:00 AM – 07:00 PM\n",
      "About the profile\n"
     ]
    }
   ],
   "source": [
    "title = driver.find_element_by_xpath('//*[@id=\"wrap\"]/main/div[1]/div/h1')\n",
    "print(title.text)\n",
    "youtube = driver.find_element_by_xpath('//*[@id=\"wrap\"]/main/div[2]/div/div[2]/div/div[3]/div/ul/li[1]/a')\n",
    "print(youtube.get_attribute(\"href\"))\n",
    "facebook = driver.find_element_by_xpath('//*[@id=\"wrap\"]/main/div[2]/div/div[2]/div/div[3]/div/ul/li[2]/a')\n",
    "print(facebook.get_attribute(\"href\"))\n",
    "instagram = driver.find_element_by_xpath('//*[@id=\"wrap\"]/main/div[2]/div/div[2]/div/div[3]/div/ul/li[3]/a')\n",
    "print(instagram.get_attribute(\"href\"))\n",
    "avg_receipt = driver.find_element_by_xpath('//*[@id=\"wrap\"]/main/div[3]/div/div/div[1]/ul/li[1]/div')\n",
    "print(avg_receipt.text)\n",
    "kitchen = driver.find_element_by_xpath('//*[@id=\"wrap\"]/main/div[3]/div/div/div[1]/ul/li[2]/div')\n",
    "print(kitchen.text)\n",
    "# seats = driver.find_element_by_xpath('//*[@id=\"wrap\"]/main/div[3]/div/div/div[1]/ul/li[3]/div')\n",
    "# print(seats.text)\n",
    "vip = driver.find_element_by_xpath('//*[@id=\"wrap\"]/main/div[3]/div/div/div[2]/ul/li[1]/div')\n",
    "print(vip.text)\n",
    "work_hours = driver.find_element_by_xpath('//*[@id=\"wrap\"]/main/div[3]/div/div/div[2]/ul/li[2]/div')\n",
    "print(work_hours.text)\n",
    "about_us = driver.find_element_by_xpath('//*[@id=\"about\"]/div/div[3]/p')\n",
    "print(about_us.text)"
   ]
  },
  {
   "cell_type": "code",
   "execution_count": 49,
   "metadata": {},
   "outputs": [
    {
     "name": "stdout",
     "output_type": "stream",
     "text": [
      "http://parmigiano-group.com/storage/app/uploads/public/5d5/bcd/c7b/5d5bcdc7bf984161583159.pdf\n",
      "http://parmigiano-group.com/storage/app/uploads/public/5d4/122/1c3/5d41221c3e98e711201445.pdf\n"
     ]
    }
   ],
   "source": [
    "menu_pdf = driver.find_element_by_xpath('//*[@id=\"myModal311\"]/div/div/div[2]/iframe')\n",
    "print(menu_pdf.get_attribute(\"src\"))\n",
    "bar_pdf = driver.find_element_by_xpath('//*[@id=\"myModal314\"]/div/div/div[2]/iframe')\n",
    "print(bar_pdf.get_attribute(\"src\"))"
   ]
  },
  {
   "cell_type": "code",
   "execution_count": 78,
   "metadata": {},
   "outputs": [
    {
     "name": "stdout",
     "output_type": "stream",
     "text": [
      "http://parmigiano-group.com/storage/app/uploads/public/5ca/c30/1e6/thumb_12713_1200x400_0_0_crop.jpg\n",
      "http://parmigiano-group.com/storage/app/uploads/public/5ca/c30/1e6/thumb_12713_1200x800_0_0_crop.jpg\n",
      "http://parmigiano-group.com/storage/app/uploads/public/5ca/c30/226/thumb_12714_1200x400_0_0_crop.jpg\n",
      "http://parmigiano-group.com/storage/app/uploads/public/5ca/c30/226/thumb_12714_1200x800_0_0_crop.jpg\n",
      "http://parmigiano-group.com/storage/app/uploads/public/5ca/c30/05c/thumb_12711_1200x400_0_0_crop.jpg\n",
      "http://parmigiano-group.com/storage/app/uploads/public/5ca/c30/05c/thumb_12711_1200x800_0_0_crop.jpg\n",
      "http://parmigiano-group.com/storage/app/uploads/public/5ca/c30/06e/thumb_12712_1200x400_0_0_crop.jpg\n",
      "http://parmigiano-group.com/storage/app/uploads/public/5ca/c30/06e/thumb_12712_1200x800_0_0_crop.jpg\n",
      "http://parmigiano-group.com/storage/app/uploads/public/5ca/c30/1e6/thumb_12713_1200x400_0_0_crop.jpg\n",
      "http://parmigiano-group.com/storage/app/uploads/public/5ca/c30/1e6/thumb_12713_1200x800_0_0_crop.jpg\n",
      "http://parmigiano-group.com/storage/app/uploads/public/5ca/c30/226/thumb_12714_1200x400_0_0_crop.jpg\n",
      "http://parmigiano-group.com/storage/app/uploads/public/5ca/c30/226/thumb_12714_1200x800_0_0_crop.jpg\n",
      "http://parmigiano-group.com/storage/app/uploads/public/5ca/c30/05c/thumb_12711_1200x400_0_0_crop.jpg\n",
      "http://parmigiano-group.com/storage/app/uploads/public/5ca/c30/05c/thumb_12711_1200x800_0_0_crop.jpg\n",
      "http://parmigiano-group.com/storage/app/uploads/public/5ca/c30/06e/thumb_12712_1200x400_0_0_crop.jpg\n",
      "http://parmigiano-group.com/storage/app/uploads/public/5ca/c30/06e/thumb_12712_1200x800_0_0_crop.jpg\n",
      "http://parmigiano-group.com/storage/app/uploads/public/5ca/c30/78d/thumb_12721_800x300_0_0_crop.jpg\n",
      "http://parmigiano-group.com/storage/app/uploads/public/5ca/c30/87e/thumb_12722_800x300_0_0_crop.jpg\n",
      "http://parmigiano-group.com/storage/app/uploads/public/5ca/c30/6d0/thumb_12719_800x300_0_0_crop.jpg\n",
      "http://parmigiano-group.com/storage/app/uploads/public/5ca/c30/75a/thumb_12720_800x300_0_0_crop.jpg\n",
      "http://parmigiano-group.com/storage/app/uploads/public/5ca/c30/78d/thumb_12721_800x300_0_0_crop.jpg\n",
      "http://parmigiano-group.com/storage/app/uploads/public/5ca/c30/87e/thumb_12722_800x300_0_0_crop.jpg\n",
      "http://parmigiano-group.com/storage/app/uploads/public/5ca/c30/6d0/thumb_12719_800x300_0_0_crop.jpg\n",
      "http://parmigiano-group.com/storage/app/uploads/public/5ca/c30/75a/thumb_12720_800x300_0_0_crop.jpg\n"
     ]
    }
   ],
   "source": []
  }
 ],
 "metadata": {
  "kernelspec": {
   "display_name": "Python 3",
   "language": "python",
   "name": "python3"
  },
  "language_info": {
   "codemirror_mode": {
    "name": "ipython",
    "version": 3
   },
   "file_extension": ".py",
   "mimetype": "text/x-python",
   "name": "python",
   "nbconvert_exporter": "python",
   "pygments_lexer": "ipython3",
   "version": "3.7.4"
  }
 },
 "nbformat": 4,
 "nbformat_minor": 2
}
